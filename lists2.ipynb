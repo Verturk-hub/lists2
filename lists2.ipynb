{
 "cells": [
  {
   "cell_type": "code",
   "execution_count": 17,
   "source": [
    "def prime(start,limit):\r\n",
    "    for i in range(start,limit):\r\n",
    "        if i % 2 != 0 and i % 3!= 0 and i % 4 !=0 and i % 5!=0 :\r\n",
    "            print(str(i),'is prime')\r\n",
    "\r\n",
    "prime(3,18)"
   ],
   "outputs": [
    {
     "output_type": "stream",
     "name": "stdout",
     "text": [
      "7 is prime\n",
      "11 is prime\n",
      "13 is prime\n",
      "17 is prime\n"
     ]
    }
   ],
   "metadata": {}
  },
  {
   "cell_type": "code",
   "execution_count": 18,
   "source": [
    "def reverseLookup(data,value):\r\n",
    "    keys=[]\r\n",
    "    for key in data:\r\n",
    "        if data[key] == value:\r\n",
    "            keys.append(key)\r\n",
    "    return key\r\n",
    "\r\n",
    "data ={ 'hi':'merhaba', 'welcome':'hosgeldin', 'bye':'hoscakal'}\r\n",
    "print('hoscakal in english:',reverseLookup(data,'hoscakal'))"
   ],
   "outputs": [
    {
     "output_type": "stream",
     "name": "stdout",
     "text": [
      "hoscakal in english: bye\n"
     ]
    }
   ],
   "metadata": {}
  },
  {
   "cell_type": "code",
   "execution_count": 20,
   "source": [
    "from random import randrange\r\n",
    "\r\n",
    "num_runs=1000\r\n",
    "d_max=6\r\n",
    "\r\n",
    "def twoDice():\r\n",
    "    d1=randrange(1,d_max+1)\r\n",
    "    d2=randrange(1,d_max+1)\r\n",
    "    return d1+d2\r\n",
    "\r\n",
    "counts={2:0, 3:0, 4:0, 5:0, 6:0, 7:0, 8:0, 9:0, 10:0, 11:0, 12:0}\r\n",
    "expected={2:1/36, 3:2/36, 4:3/36, 5:4/36, 6:5/36, 7:6/36, 8:5/36, 9:4/36, 10:3/36, 11:2/36, 12:1/36 }\r\n",
    "\r\n",
    "for i in range(num_runs):\r\n",
    "    t=twoDice()\r\n",
    "    counts[t] = counts[t] + 1\r\n",
    "\r\n",
    "for i in sorted(counts.keys()):\r\n",
    "    print(i, counts[i] / num_runs * 100, expected[i]*100)"
   ],
   "outputs": [
    {
     "output_type": "stream",
     "name": "stdout",
     "text": [
      "2 2.3 2.7777777777777777\n",
      "3 5.8999999999999995 5.555555555555555\n",
      "4 7.9 8.333333333333332\n",
      "5 11.1 11.11111111111111\n",
      "6 15.1 13.88888888888889\n",
      "7 16.400000000000002 16.666666666666664\n",
      "8 14.399999999999999 13.88888888888889\n",
      "9 10.2 11.11111111111111\n",
      "10 7.6 8.333333333333332\n",
      "11 4.8 5.555555555555555\n",
      "12 4.3 2.7777777777777777\n"
     ]
    }
   ],
   "metadata": {}
  },
  {
   "cell_type": "code",
   "execution_count": null,
   "source": [],
   "outputs": [],
   "metadata": {}
  }
 ],
 "metadata": {
  "orig_nbformat": 4,
  "language_info": {
   "name": "python",
   "version": "3.8.3",
   "mimetype": "text/x-python",
   "codemirror_mode": {
    "name": "ipython",
    "version": 3
   },
   "pygments_lexer": "ipython3",
   "nbconvert_exporter": "python",
   "file_extension": ".py"
  },
  "kernelspec": {
   "name": "python3",
   "display_name": "Python 3.8.3 64-bit ('base': conda)"
  },
  "interpreter": {
   "hash": "46182d5f787c7496ac3d2ccd0c5d8bf41bffd3ac5e5e93146af501a7f382c533"
  }
 },
 "nbformat": 4,
 "nbformat_minor": 2
}